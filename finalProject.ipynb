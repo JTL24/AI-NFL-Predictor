{
 "cells": [
  {
   "cell_type": "code",
   "execution_count": 1,
   "metadata": {},
   "outputs": [
    {
     "name": "stderr",
     "output_type": "stream",
     "text": [
      "2024-04-23 14:15:47.886315: I tensorflow/core/util/port.cc:113] oneDNN custom operations are on. You may see slightly different numerical results due to floating-point round-off errors from different computation orders. To turn them off, set the environment variable `TF_ENABLE_ONEDNN_OPTS=0`.\n",
      "2024-04-23 14:15:47.931197: I tensorflow/core/platform/cpu_feature_guard.cc:182] This TensorFlow binary is optimized to use available CPU instructions in performance-critical operations.\n",
      "To enable the following instructions: SSE4.1 SSE4.2 AVX AVX2 AVX512F AVX512_VNNI FMA, in other operations, rebuild TensorFlow with the appropriate compiler flags.\n"
     ]
    }
   ],
   "source": [
    "%matplotlib inline\n",
    "\n",
    "import numpy as np\n",
    "import random\n",
    "import pandas as pd\n",
    "import requests as rq\n",
    "import sys\n",
    "import io\n",
    "import os\n",
    "from bs4 import BeautifulSoup\n",
    "from keras.callbacks import LambdaCallback\n",
    "from keras.models import Sequential\n",
    "from keras.layers import Dense, LSTM\n",
    "from keras.optimizers import RMSprop\n",
    "from collections import Counter\n",
    "from datetime import datetime\n",
    "import keras\n",
    "import keras.callbacks\n",
    "from keras.callbacks import TensorBoard\n",
    "import pandas as pd\n",
    "from sklearn.model_selection import train_test_split\n",
    "from sklearn.preprocessing import StandardScaler, OneHotEncoder\n",
    "from sklearn.compose import ColumnTransformer\n",
    "from keras.models import Sequential\n",
    "from keras.layers import LSTM, Dense\n",
    "from keras.callbacks import EarlyStopping\n",
    "from keras.optimizers import Adam\n",
    "from sklearn.compose import ColumnTransformer\n",
    "from sklearn.preprocessing import StandardScaler\n",
    "from keras.layers import LSTM, Dense, Dropout\n",
    "from keras.callbacks import Callback\n",
    "\n",
    "\n",
    "%load_ext tensorboard"
   ]
  },
  {
   "cell_type": "code",
   "execution_count": 2,
   "metadata": {},
   "outputs": [],
   "source": [
    "# # code to run the dataset \n",
    "# YEARS = range(2010,2012)\n",
    "# data = pd.DataFrame()\n",
    "# for YEAR in YEARS:  \n",
    "#     print(str(YEAR))\n",
    "#     i_data = pd.read_csv('https://github.com/nflverse/nflverse-data/releases/download/pbp/' \\\n",
    "#                    'play_by_play_' + str(YEAR) + '.csv.gz',\n",
    "#                    compression= 'gzip', low_memory= False)\n",
    "#     data = pd.concat([data, i_data], sort=True)\n",
    "\n"
   ]
  },
  {
   "cell_type": "markdown",
   "metadata": {},
   "source": [
    "Data Cleaning"
   ]
  },
  {
   "cell_type": "code",
   "execution_count": 3,
   "metadata": {},
   "outputs": [
    {
     "name": "stderr",
     "output_type": "stream",
     "text": [
      "/tmp/ipykernel_29966/583003650.py:3: DtypeWarning: Columns (45,179,180,189,190,197,198,203,204,205,206,218,219,220,222,224,226,253,254,255,260,262,263,283,284,294,295,301) have mixed types. Specify dtype option on import or set low_memory=False.\n",
      "  data = pd.read_csv('cleaneddata.csv') # pandas data frame\n"
     ]
    }
   ],
   "source": [
    "##get data\n",
    "##data is already from 2012-2020\n",
    "data = pd.read_csv('cleaneddata.csv') # pandas data frame\n",
    "\n",
    "\n",
    "#Variable Time Stamping\n",
    "# Currently, each play is treated as a single timestep. If possible, \n",
    "# consider using multiple timesteps per sample to include more historical context.\n",
    "# For instance, using the last n plays within the same drive as a sequence might help the model understand the context better and improve predictions.\n",
    "\n",
    "##preprocessing\n",
    "\n",
    "##filter to only patriots\n",
    "#data = data.loc[(data['home_team'] == 'NE') | (data['away_team'] == 'NE')]\n",
    "\n",
    "##removes \n",
    "data = data.loc[(data['desc'].str.startswith('('))]\n",
    "data = data[data['play_type'] != 'qb_kneel']\n",
    "data = data[data['play_type'] != 'no_play']\n",
    "data = data[data['posteam'] == 'NE']\n",
    "data = data.dropna(subset=['down'])\n",
    "data = data.dropna(subset=['play_type'])\n",
    "data = data.dropna(subset=['wp'])\n",
    "data = data[(data['play_type'] == 'pass') | (data['play_type'] == 'run') | (data['play_type'] == 'punt') | (data['play_type'] == 'field_goal')]\n",
    "\n",
    "# Extract year and month using string slicing\n",
    "data['year'] = data['game_id'].str[:4].astype(int)\n",
    "data['month'] = data['game_id'].str[5:7].astype(int)\n",
    "# Create a new 'date' column with the 1st day of each extracted year and month\n",
    "\n",
    "\n",
    "# Come back to this when we want to specify split spots  \n",
    "# def parse_date(x):\n",
    "#     parts = x.split('_')\n",
    "#     year = int(parts[0])predictions = model.predict(X_test)\n",
    "\n",
    "# Apply the function to the 'game_date' column\n",
    "# data['date'] = data['game_id'].apply(parse_date)\n",
    "# # Now you can sort by this 'date' column if needed\n",
    "# data.sort_values(by='date', inplace=True)\n",
    "\n",
    "# # And use the 'date' column for splitting your data, work with in the future to pick specific dates \n",
    "# #Right now not working because the months in the game_id are 01-12, when for pd.TimeStamp they need to be in 1-12. \n",
    "# split_date = pd.Timestamp(year=2018, month=12, day=1)  # Replace YYYY and MM with your split year and month\n",
    "# train_data = data[data['date'] < split_date]\n",
    "# test_data = data[data['date'] >= split_date]\n",
    "\n",
    " \n",
    "##fixes playtype to be strictly pass or run \n",
    "##lables scrambles as passes\n",
    "data.loc[data['pass']==1,'play_type'] = 'pass'\n",
    "data.loc[data.rush==1,'play_type'] = 'run'\n",
    "\n",
    "# columns are the strings \n",
    "# things to encode from strings to 1s and zeros\n",
    "# season_type, \n",
    "columnsKeep = ['game_id', 'year','month','season_type','week','posteam','posteam_type','defteam','side_of_field','yardline_100','half_seconds_remaining','home_team','away_team',\n",
    "               'game_seconds_remaining','game_half','drive','down','time','yrdln','ydstogo','desc','play_type','yards_gained','shotgun','no_huddle','qb_dropback','qb_kneel',\n",
    "               'qb_spike','qb_scramble','pass_length','run_location','run_gap','home_timeouts_remaining','away_timeouts_remaining','total_home_score','total_away_score',\n",
    "               'passer_player_name','receiver_player_name','rusher_player_name','play_type_nfl','roof','surface','temp','wind','home_coach','away_coach','game_stadium',\n",
    "               'success', 'wp']\n",
    "\n",
    "data = data[columnsKeep]\n",
    "\n",
    "# print(data.head(5))\n",
    "\n",
    "data.to_csv('finalized_data.csv', index=False)"
   ]
  },
  {
   "cell_type": "code",
   "execution_count": 4,
   "metadata": {},
   "outputs": [
    {
     "name": "stdout",
     "output_type": "stream",
     "text": [
      "10489\n",
      "Number of 'run' plays: 3942\n",
      "Number of 'pass' plays: 5624\n"
     ]
    }
   ],
   "source": [
    "print(len(data))\n",
    "\n",
    "# Count occurrences of each play type\n",
    "runCount = (data['play_type'] == 'run').sum()\n",
    "passCount = (data['play_type'] == 'pass').sum()\n",
    "\n",
    "print(\"Number of 'run' plays:\", runCount)\n",
    "print(\"Number of 'pass' plays:\", passCount)"
   ]
  },
  {
   "cell_type": "code",
   "execution_count": 5,
   "metadata": {},
   "outputs": [
    {
     "name": "stdout",
     "output_type": "stream",
     "text": [
      "Missing values in selected features:\n",
      "down                      0\n",
      "drive                     0\n",
      "ydstogo                   0\n",
      "yardline_100              0\n",
      "half_seconds_remaining    0\n",
      "game_seconds_remaining    0\n",
      "wp                        0\n",
      "dtype: int64\n",
      "\n",
      "Missing values in target (play_type): 0\n"
     ]
    }
   ],
   "source": [
    "##check for nan values in data\n",
    "for index, row in data.iterrows():\n",
    "    if pd.isnull(row['play_type']):  # Check if the value in the 'down' column is NaN\n",
    "        print(row['desc'])  # Print the value in the 'desc' column if 'down' is NaN\n",
    "\n",
    "# wind and stadium had a lot of null \n",
    "## check for missing values in data\n",
    "selected_features = ['down', 'drive', 'ydstogo', 'yardline_100', 'half_seconds_remaining', 'game_seconds_remaining','wp']\n",
    "missing_values_features = data[selected_features].isnull().sum()\n",
    "print(\"Missing values in selected features:\")\n",
    "print(missing_values_features)\n",
    "\n",
    "# Check for missing values in the target\n",
    "missing_values_target = data['play_type'].isnull().sum()\n",
    "print(\"\\nMissing values in target (play_type):\", missing_values_target)\n"
   ]
  },
  {
   "cell_type": "code",
   "execution_count": 8,
   "metadata": {},
   "outputs": [
    {
     "name": "stdout",
     "output_type": "stream",
     "text": [
      "Epoch 1/30\n",
      "118/118 [==============================] - 5s 12ms/step - loss: 0.7307 - accuracy: 0.6275 - val_loss: 0.6056 - val_accuracy: 0.6786\n",
      "Epoch 2/30\n",
      "118/118 [==============================] - 1s 5ms/step - loss: 0.6046 - accuracy: 0.6836 - val_loss: 0.5814 - val_accuracy: 0.6964\n",
      "Epoch 3/30\n",
      "118/118 [==============================] - 1s 5ms/step - loss: 0.5958 - accuracy: 0.6802 - val_loss: 0.5626 - val_accuracy: 0.6905\n",
      "Epoch 4/30\n",
      "118/118 [==============================] - 1s 5ms/step - loss: 0.5821 - accuracy: 0.6901 - val_loss: 0.5566 - val_accuracy: 0.7083\n",
      "Epoch 5/30\n",
      "118/118 [==============================] - 1s 5ms/step - loss: 0.5781 - accuracy: 0.6897 - val_loss: 0.5658 - val_accuracy: 0.7071\n",
      "Epoch 6/30\n",
      "118/118 [==============================] - 1s 5ms/step - loss: 0.5735 - accuracy: 0.6909 - val_loss: 0.5539 - val_accuracy: 0.7048\n",
      "Epoch 7/30\n",
      "118/118 [==============================] - 1s 5ms/step - loss: 0.5680 - accuracy: 0.6939 - val_loss: 0.5529 - val_accuracy: 0.7095\n",
      "Epoch 8/30\n",
      "118/118 [==============================] - 1s 5ms/step - loss: 0.5690 - accuracy: 0.6881 - val_loss: 0.5570 - val_accuracy: 0.7060\n",
      "Epoch 9/30\n",
      "118/118 [==============================] - 1s 5ms/step - loss: 0.5644 - accuracy: 0.6949 - val_loss: 0.5669 - val_accuracy: 0.7143\n",
      "Epoch 10/30\n",
      "118/118 [==============================] - 1s 5ms/step - loss: 0.5585 - accuracy: 0.6981 - val_loss: 0.5517 - val_accuracy: 0.7131\n",
      "Epoch 11/30\n",
      "118/118 [==============================] - 1s 5ms/step - loss: 0.5582 - accuracy: 0.7015 - val_loss: 0.5594 - val_accuracy: 0.7095\n",
      "Epoch 12/30\n",
      "118/118 [==============================] - 1s 5ms/step - loss: 0.5642 - accuracy: 0.6986 - val_loss: 0.5608 - val_accuracy: 0.7048\n",
      "Epoch 13/30\n",
      "118/118 [==============================] - 1s 5ms/step - loss: 0.5533 - accuracy: 0.7030 - val_loss: 0.5568 - val_accuracy: 0.7143\n",
      "Epoch 14/30\n",
      "118/118 [==============================] - 1s 5ms/step - loss: 0.5566 - accuracy: 0.7026 - val_loss: 0.5515 - val_accuracy: 0.7095\n",
      "Epoch 15/30\n",
      "118/118 [==============================] - 1s 5ms/step - loss: 0.5497 - accuracy: 0.7023 - val_loss: 0.5583 - val_accuracy: 0.7071\n",
      "Epoch 16/30\n",
      "118/118 [==============================] - 1s 5ms/step - loss: 0.5491 - accuracy: 0.7051 - val_loss: 0.5627 - val_accuracy: 0.6976\n",
      "Epoch 17/30\n",
      "118/118 [==============================] - 1s 5ms/step - loss: 0.5536 - accuracy: 0.7028 - val_loss: 0.5594 - val_accuracy: 0.7071\n",
      "Epoch 18/30\n",
      "118/118 [==============================] - 1s 5ms/step - loss: 0.5492 - accuracy: 0.7055 - val_loss: 0.5660 - val_accuracy: 0.7000\n",
      "Epoch 19/30\n",
      "118/118 [==============================] - 1s 5ms/step - loss: 0.5461 - accuracy: 0.7085 - val_loss: 0.5435 - val_accuracy: 0.7179\n",
      "Epoch 20/30\n",
      "118/118 [==============================] - 1s 5ms/step - loss: 0.5442 - accuracy: 0.7079 - val_loss: 0.5599 - val_accuracy: 0.7048\n",
      "Epoch 21/30\n",
      "118/118 [==============================] - 1s 6ms/step - loss: 0.5458 - accuracy: 0.7031 - val_loss: 0.5491 - val_accuracy: 0.7071\n",
      "Epoch 22/30\n",
      "118/118 [==============================] - 1s 5ms/step - loss: 0.5471 - accuracy: 0.7044 - val_loss: 0.5472 - val_accuracy: 0.7107\n",
      "Epoch 23/30\n",
      "118/118 [==============================] - 1s 5ms/step - loss: 0.5420 - accuracy: 0.7126 - val_loss: 0.5634 - val_accuracy: 0.7036\n",
      "Epoch 24/30\n",
      "118/118 [==============================] - 1s 5ms/step - loss: 0.5408 - accuracy: 0.7077 - val_loss: 0.5654 - val_accuracy: 0.7107\n",
      "Epoch 25/30\n",
      "118/118 [==============================] - 1s 5ms/step - loss: 0.5416 - accuracy: 0.7069 - val_loss: 0.5422 - val_accuracy: 0.7143\n",
      "Epoch 26/30\n",
      "118/118 [==============================] - 1s 5ms/step - loss: 0.5391 - accuracy: 0.7129 - val_loss: 0.5516 - val_accuracy: 0.7095\n",
      "Epoch 27/30\n",
      "118/118 [==============================] - 1s 5ms/step - loss: 0.5373 - accuracy: 0.7085 - val_loss: 0.5597 - val_accuracy: 0.7071\n",
      "Epoch 28/30\n",
      "118/118 [==============================] - 1s 5ms/step - loss: 0.5363 - accuracy: 0.7128 - val_loss: 0.5446 - val_accuracy: 0.7202\n",
      "Epoch 29/30\n",
      "118/118 [==============================] - 1s 5ms/step - loss: 0.5327 - accuracy: 0.7109 - val_loss: 0.5498 - val_accuracy: 0.7167\n",
      "Epoch 30/30\n",
      "118/118 [==============================] - 1s 5ms/step - loss: 0.5381 - accuracy: 0.7120 - val_loss: 0.5539 - val_accuracy: 0.7155\n",
      "66/66 [==============================] - 0s 2ms/step - loss: 0.5867 - accuracy: 0.6721\n",
      "Test Accuracy: 0.672, Test Loss: 0.587\n"
     ]
    }
   ],
   "source": [
    "from sklearn.model_selection import train_test_split\n",
    "from sklearn.preprocessing import StandardScaler\n",
    "from tensorflow.keras.utils import to_categorical\n",
    "\n",
    "features = data[['down','drive', 'ydstogo','yardline_100', 'half_seconds_remaining', 'game_seconds_remaining', 'wp']]\n",
    "target = to_categorical(data['play_type'].map({'pass': 0, 'run': 1, 'field_goal': 2, 'punt': 3}))# Initialize the scaler \n",
    "scaler = StandardScaler() \n",
    "\n",
    "# Fit the scaler on the features and transform them \n",
    "features_scaled = scaler.fit_transform(features)\n",
    "\n",
    "# Reshaping input data for LSTM [samples, time steps, features]\n",
    "# Here, we assume each sample is a single time step\n",
    "features_scaled = features_scaled.reshape((features_scaled.shape[0], 1, features_scaled.shape[1]))\n",
    "\n",
    "# Talk to Nicolai and Ulrich if they think this is a good idea to split it up into drives as our time stamp. \n",
    "# 1 indicates that each sample consists of 1 timestep. This is a key detail: \n",
    "# it means you are treating each play as a separate, single-timestep sequence. T\n",
    "# This is a simplification, as ideally, plays within a single drive might be treated as sequences to capture their temporal dependencies.\n",
    "\n",
    "X_train, X_test, y_train, y_test = train_test_split(features_scaled, target, test_size=0.2, shuffle = False)\n",
    "\n",
    "#Initalize model\n",
    "model = Sequential()\n",
    "\n",
    "# input_shape corresponds to (time steps, features)\n",
    "model.add(LSTM(units=64, return_sequences=True, input_shape=(1, features_scaled.shape[2])))\n",
    "model.add(Dropout(0.2))  # Adding dropout to avoid overfitting\n",
    "\n",
    "# Adding a second LSTM layer\n",
    "model.add(LSTM(units=32, return_sequences=False))\n",
    "model.add(Dropout(0.2))\n",
    "\n",
    "# Adding the output layer\n",
    "# Since binary classification (pass/run), we use 1 unit with a sigmoid activation function\n",
    "model.add(Dense(units=4, activation='sigmoid'))\n",
    "\n",
    "# compilinh the model,\n",
    "model.compile(optimizer=Adam(learning_rate=0.01), loss='categorical_crossentropy', metrics=['accuracy'])\n",
    "\n",
    "#Training the model using the training data, \n",
    "history = model.fit(X_train, y_train, epochs=30, batch_size=64, validation_split=0.1)\n",
    "\n",
    "\n",
    "test_loss, test_acc = model.evaluate(X_test, y_test)\n",
    "print(f'Test Accuracy: {test_acc:.3f}, Test Loss: {test_loss:.3f}')\n",
    "\n",
    "\n",
    "\n",
    "#Accuracy\n",
    "#Definition: This is the metric that measures the performance of your model on the entire training dataset. In simpler terms, it represents the percentage of correct predictions that the model makes when it is fed the training data.\n",
    "#Purpose: Accuracy on the training set helps you understand how well the model is learning the intended patterns from the data it is trained on. It provides a direct measure of the model's effectiveness in fitting the data.\n",
    "\n",
    "# Validation Accuracy (val_accuracy)\n",
    "# Definition: This is the metric that measures the performance of your model on a separate validation dataset that is not used for the training of the model. \n",
    "# The validation set is a subset of the data that is held back from the training process and is used specifically to assess model performance during training.\n",
    "# Purpose: Validation accuracy is critical because it gives an early indicator of how well the model is likely to perform on unseen data, helping to diagnose issues such as overfitting. \n",
    "# Overfitting occurs when a model learns patterns specific to the training data, but these patterns do not generalize to new data"
   ]
  },
  {
   "cell_type": "code",
   "execution_count": 11,
   "metadata": {},
   "outputs": [
    {
     "name": "stdout",
     "output_type": "stream",
     "text": [
      "66/66 [==============================] - 0s 2ms/step\n",
      "Classification Report:\n",
      "              precision    recall  f1-score   support\n",
      "\n",
      "           0       0.63      0.92      0.75      1083\n",
      "           1       0.75      0.29      0.42       829\n",
      "           2       0.79      0.93      0.85        56\n",
      "           3       1.00      0.92      0.96       130\n",
      "\n",
      "    accuracy                           0.67      2098\n",
      "   macro avg       0.79      0.77      0.74      2098\n",
      "weighted avg       0.70      0.67      0.63      2098\n",
      "\n",
      "Confusion Matrix:\n",
      "[[997  78   8   0]\n",
      " [584 241   4   0]\n",
      " [  3   1  52   0]\n",
      " [  5   3   2 120]]\n"
     ]
    }
   ],
   "source": [
    "predictions = model.predict(X_test)\n",
    "predicted_classes = np.argmax(predictions, axis=1)\n",
    "\n",
    "from sklearn.metrics import classification_report, confusion_matrix\n",
    "y_test_classes = np.argmax(y_test, axis=1)\n",
    "print(\"Classification Report:\")\n",
    "print(classification_report(y_test_classes, predicted_classes))\n",
    "\n",
    "print(\"Confusion Matrix:\")\n",
    "print(confusion_matrix(y_test_classes, predicted_classes))\n",
    "\n"
   ]
  },
  {
   "cell_type": "code",
   "execution_count": null,
   "metadata": {},
   "outputs": [
    {
     "data": {
      "image/png": "[encoded data removed]",
      "text/plain": [
       "<Figure size 640x480 with 1 Axes>"
      ]
     },
     "metadata": {},
     "output_type": "display_data"
    },
    {
     "data": {
      "image/png": "[encoded data removed]",
      "text/plain": [
       "<Figure size 640x480 with 1 Axes>"
      ]
     },
     "metadata": {},
     "output_type": "display_data"
    }
   ],
   "source": [
    "import matplotlib.pyplot as plt\n",
    "\n",
    "# Summarize history for accuracy\n",
    "plt.plot(history.history['accuracy'])\n",
    "plt.plot(history.history['val_accuracy'])\n",
    "plt.title('Model Accuracy')\n",
    "plt.ylabel('Accuracy')\n",
    "plt.xlabel('Epoch')\n",
    "plt.legend(['Train', 'Validation'], loc='upper left')\n",
    "plt.show()\n",
    "\n",
    "# Summarize history for loss\n",
    "plt.plot(history.history['loss'])\n",
    "plt.plot(history.history['val_loss'])\n",
    "plt.title('Model Loss')\n",
    "plt.ylabel('Loss')\n",
    "plt.xlabel('Epoch')\n",
    "plt.legend(['Train', 'Validation'], loc='upper left')\n",
    "plt.show()\n"
   ]
  },
  {
   "cell_type": "code",
   "execution_count": 1,
   "metadata": {},
   "outputs": [],
   "source": [
    "#\n",
    "# focus more on data tarnsformations "
   ]
  },
  {
   "cell_type": "code",
   "execution_count": null,
   "metadata": {},
   "outputs": [
    {
     "name": "stdout",
     "output_type": "stream",
     "text": [
      "7652\n",
      "0\n",
      "0\n",
      "0\n",
      "0\n",
      "Shape of X_train: (7652, 1, 7)\n"
     ]
    }
   ],
   "source": [
    "# length of X train, and nulls in the x,train, x_test, y_train, y_test \n",
    "print(len(X_train))\n",
    "nan_indices_X = np.isnan(X_train)\n",
    "nan_count_X = np.sum(nan_indices_X)\n",
    "print(nan_count_X)\n",
    "\n",
    "nan_indices_X_test = np.isnan(X_test)\n",
    "nan_count_X_test = np.sum(nan_indices_X_test)\n",
    "print(nan_count_X_test)\n",
    "\n",
    "nan_indices_y = np.isnan(y_train)\n",
    "nan_count_y = np.sum(nan_indices_y)\n",
    "print(nan_count_y)\n",
    "\n",
    "nan_indices_Y_test = np.isnan(y_test)\n",
    "nan_count_Y_test = np.sum(nan_indices_Y_test)\n",
    "print(nan_count_Y_test)\n",
    "\n",
    "print(\"Shape of X_train:\", X_train.shape)"
   ]
  },
  {
   "cell_type": "code",
   "execution_count": null,
   "metadata": {},
   "outputs": [],
   "source": []
  },
  {
   "cell_type": "code",
   "execution_count": null,
   "metadata": {},
   "outputs": [],
   "source": []
  }
 ],
 "metadata": {
  "kernelspec": {
   "display_name": "ArtificialIntelligence",
   "language": "python",
   "name": "python3"
  },
  "language_info": {
   "codemirror_mode": {
    "name": "ipython",
    "version": 3
   },
   "file_extension": ".py",
   "mimetype": "text/x-python",
   "name": "python",
   "nbconvert_exporter": "python",
   "pygments_lexer": "ipython3",
   "version": "3.11.8"
  }
 },
 "nbformat": 4,
 "nbformat_minor": 2
}
