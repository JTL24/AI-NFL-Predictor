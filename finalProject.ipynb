{
 "cells": [
  {
   "cell_type": "code",
   "execution_count": 1,
   "metadata": {},
   "outputs": [],
   "source": [
    "%matplotlib inline\n",
    "\n",
    "import numpy as np\n",
    "import random\n",
    "import pandas as pd\n",
    "import requests as rq\n",
    "import sys\n",
    "import io\n",
    "import os\n",
    "from bs4 import BeautifulSoup\n",
    "from keras.callbacks import LambdaCallback\n",
    "from keras.models import Sequential\n",
    "from keras.layers import Dense, LSTM\n",
    "from keras.optimizers import RMSprop\n",
    "from collections import Counter\n",
    "from datetime import datetime\n",
    "import keras\n",
    "import keras.callbacks\n",
    "from keras.callbacks import TensorBoard\n",
    "import pandas as pd\n",
    "from sklearn.model_selection import train_test_split\n",
    "from sklearn.preprocessing import StandardScaler, OneHotEncoder\n",
    "from sklearn.compose import ColumnTransformer\n",
    "from keras.models import Sequential\n",
    "from keras.layers import LSTM, Dense\n",
    "from keras.callbacks import EarlyStopping\n",
    "from keras.optimizers import Adam\n",
    "from sklearn.compose import ColumnTransformer\n",
    "from sklearn.preprocessing import StandardScaler\n",
    "from keras.layers import LSTM, Dense, Dropout\n",
    "from keras.callbacks import Callback\n",
    "\n",
    "\n",
    "%load_ext tensorboard"
   ]
  },
  {
   "cell_type": "markdown",
   "metadata": {},
   "source": [
    "Data Cleaning"
   ]
  },
  {
   "cell_type": "code",
   "execution_count": 2,
   "metadata": {},
   "outputs": [
    {
     "name": "stderr",
     "output_type": "stream",
     "text": [
      "/var/folders/ys/6w09q22n4f73ds9jwmgbstjc0000gn/T/ipykernel_65887/1351778777.py:3: DtypeWarning: Columns (45,179,180,182,183,189,190,193,194,197,198,203,204,205,206,209,210,213,214,218,219,220,222,224,226,233,234,235,236,237,238,248,249,253,254,255,260,262,263,266,267,268,269,283,284,294,295,301) have mixed types. Specify dtype option on import or set low_memory=False.\n",
      "  data = pd.read_csv('data_file.csv')\n"
     ]
    }
   ],
   "source": [
    "\n",
    "##get data\n",
    "##data is already from 2012-2020\n",
    "data = pd.read_csv('data_file.csv')\n",
    "\n",
    "\n",
    "##preprocessing\n",
    "\n",
    "##filter to only patriots\n",
    "data = data.loc[(data['home_team'] == 'NE') | (data['away_team'] == 'NE')]\n",
    "\n",
    "##removes \n",
    "data = data.loc[(data['desc'].str.startswith('('))]\n",
    "data = data[data['play_type'] != 'qb_kneel']\n",
    "data = data[data['play_type'] != 'no_play']\n",
    "\n",
    "\n",
    "\n",
    " \n",
    "##fixes playtype to be strictly pass or run \n",
    "##lables scrambles as passes\n",
    "data.loc[data['pass']==1,'play_type'] = 'pass'\n",
    "data.loc[data.rush==1,'play_type'] = 'run'\n",
    "\n",
    "\n",
    "columnsKeep = ['play_id','game_id','season_type','week','posteam','posteam_type','defteam','side_of_field','yardline_100','half_seconds_remaining','home_team','away_team',\n",
    "               'game_seconds_remaining','game_half','drive','down','time','yrdln','ydstogo','desc','play_type','yards_gained','shotgun','no_huddle','qb_dropback','qb_kneel',\n",
    "               'qb_spike','qb_scramble','pass_length','run_location','run_gap','home_timeouts_remaining','away_timeouts_remaining','total_home_score','total_away_score',\n",
    "               'passer_player_name','receiver_player_name','rusher_player_name','play_type_nfl','roof','surface','temp','wind','home_coach','away_coach','game_stadium',\n",
    "               'success']\n",
    "\n",
    "data = data[columnsKeep]\n",
    "\n",
    "\n",
    "data.to_csv('cleaneddata.csv', index=False)\n"
   ]
  },
  {
   "cell_type": "code",
   "execution_count": 3,
   "metadata": {},
   "outputs": [
    {
     "name": "stdout",
     "output_type": "stream",
     "text": [
      "  1/147 [..............................] - ETA: 23s"
     ]
    },
    {
     "name": "stderr",
     "output_type": "stream",
     "text": [
      "2024-04-11 18:26:55.070236: I tensorflow/core/common_runtime/executor.cc:1197] [/device:CPU:0] (DEBUG INFO) Executor start aborting (this does not indicate an error and you can ignore this message): INVALID_ARGUMENT: You must feed a value for placeholder tensor 'gradients/split_2_grad/concat/split_2/split_dim' with dtype int32\n",
      "\t [[{{node gradients/split_2_grad/concat/split_2/split_dim}}]]\n",
      "2024-04-11 18:26:55.071448: I tensorflow/core/common_runtime/executor.cc:1197] [/device:CPU:0] (DEBUG INFO) Executor start aborting (this does not indicate an error and you can ignore this message): INVALID_ARGUMENT: You must feed a value for placeholder tensor 'gradients/split_grad/concat/split/split_dim' with dtype int32\n",
      "\t [[{{node gradients/split_grad/concat/split/split_dim}}]]\n",
      "2024-04-11 18:26:55.071777: I tensorflow/core/common_runtime/executor.cc:1197] [/device:CPU:0] (DEBUG INFO) Executor start aborting (this does not indicate an error and you can ignore this message): INVALID_ARGUMENT: You must feed a value for placeholder tensor 'gradients/split_1_grad/concat/split_1/split_dim' with dtype int32\n",
      "\t [[{{node gradients/split_1_grad/concat/split_1/split_dim}}]]\n",
      "2024-04-11 18:26:55.104796: W tensorflow/tsl/platform/profile_utils/cpu_utils.cc:128] Failed to get CPU frequency: 0 Hz\n",
      "2024-04-11 18:26:55.191236: I tensorflow/core/common_runtime/executor.cc:1197] [/device:CPU:0] (DEBUG INFO) Executor start aborting (this does not indicate an error and you can ignore this message): INVALID_ARGUMENT: You must feed a value for placeholder tensor 'gradients/split_2_grad/concat/split_2/split_dim' with dtype int32\n",
      "\t [[{{node gradients/split_2_grad/concat/split_2/split_dim}}]]\n",
      "2024-04-11 18:26:55.191783: I tensorflow/core/common_runtime/executor.cc:1197] [/device:CPU:0] (DEBUG INFO) Executor start aborting (this does not indicate an error and you can ignore this message): INVALID_ARGUMENT: You must feed a value for placeholder tensor 'gradients/split_grad/concat/split/split_dim' with dtype int32\n",
      "\t [[{{node gradients/split_grad/concat/split/split_dim}}]]\n",
      "2024-04-11 18:26:55.192217: I tensorflow/core/common_runtime/executor.cc:1197] [/device:CPU:0] (DEBUG INFO) Executor start aborting (this does not indicate an error and you can ignore this message): INVALID_ARGUMENT: You must feed a value for placeholder tensor 'gradients/split_1_grad/concat/split_1/split_dim' with dtype int32\n",
      "\t [[{{node gradients/split_1_grad/concat/split_1/split_dim}}]]\n"
     ]
    },
    {
     "name": "stdout",
     "output_type": "stream",
     "text": [
      "147/147 [==============================] - 0s 314us/step\n",
      "Epoch 1/50\n"
     ]
    },
    {
     "name": "stderr",
     "output_type": "stream",
     "text": [
      "2024-04-11 18:26:55.410794: I tensorflow/core/common_runtime/executor.cc:1197] [/device:CPU:0] (DEBUG INFO) Executor start aborting (this does not indicate an error and you can ignore this message): INVALID_ARGUMENT: You must feed a value for placeholder tensor 'gradients/split_2_grad/concat/split_2/split_dim' with dtype int32\n",
      "\t [[{{node gradients/split_2_grad/concat/split_2/split_dim}}]]\n",
      "2024-04-11 18:26:55.411645: I tensorflow/core/common_runtime/executor.cc:1197] [/device:CPU:0] (DEBUG INFO) Executor start aborting (this does not indicate an error and you can ignore this message): INVALID_ARGUMENT: You must feed a value for placeholder tensor 'gradients/split_grad/concat/split/split_dim' with dtype int32\n",
      "\t [[{{node gradients/split_grad/concat/split/split_dim}}]]\n",
      "2024-04-11 18:26:55.412124: I tensorflow/core/common_runtime/executor.cc:1197] [/device:CPU:0] (DEBUG INFO) Executor start aborting (this does not indicate an error and you can ignore this message): INVALID_ARGUMENT: You must feed a value for placeholder tensor 'gradients/split_1_grad/concat/split_1/split_dim' with dtype int32\n",
      "\t [[{{node gradients/split_1_grad/concat/split_1/split_dim}}]]\n",
      "2024-04-11 18:26:55.618372: I tensorflow/core/common_runtime/executor.cc:1197] [/device:CPU:0] (DEBUG INFO) Executor start aborting (this does not indicate an error and you can ignore this message): INVALID_ARGUMENT: You must feed a value for placeholder tensor 'gradients/split_2_grad/concat/split_2/split_dim' with dtype int32\n",
      "\t [[{{node gradients/split_2_grad/concat/split_2/split_dim}}]]\n",
      "2024-04-11 18:26:55.618991: I tensorflow/core/common_runtime/executor.cc:1197] [/device:CPU:0] (DEBUG INFO) Executor start aborting (this does not indicate an error and you can ignore this message): INVALID_ARGUMENT: You must feed a value for placeholder tensor 'gradients/split_grad/concat/split/split_dim' with dtype int32\n",
      "\t [[{{node gradients/split_grad/concat/split/split_dim}}]]\n",
      "2024-04-11 18:26:55.619418: I tensorflow/core/common_runtime/executor.cc:1197] [/device:CPU:0] (DEBUG INFO) Executor start aborting (this does not indicate an error and you can ignore this message): INVALID_ARGUMENT: You must feed a value for placeholder tensor 'gradients/split_1_grad/concat/split_1/split_dim' with dtype int32\n",
      "\t [[{{node gradients/split_1_grad/concat/split_1/split_dim}}]]\n"
     ]
    },
    {
     "name": "stdout",
     "output_type": "stream",
     "text": [
      "526/526 [==============================] - 1s 1ms/step - loss: nan - accuracy: 0.5545 - val_loss: nan - val_accuracy: 0.5717\n",
      "Epoch 2/50\n",
      " 97/526 [====>.........................] - ETA: 0s - loss: nan - accuracy: 0.5445"
     ]
    },
    {
     "name": "stderr",
     "output_type": "stream",
     "text": [
      "2024-04-11 18:26:56.532307: I tensorflow/core/common_runtime/executor.cc:1197] [/device:CPU:0] (DEBUG INFO) Executor start aborting (this does not indicate an error and you can ignore this message): INVALID_ARGUMENT: You must feed a value for placeholder tensor 'gradients/split_2_grad/concat/split_2/split_dim' with dtype int32\n",
      "\t [[{{node gradients/split_2_grad/concat/split_2/split_dim}}]]\n",
      "2024-04-11 18:26:56.532934: I tensorflow/core/common_runtime/executor.cc:1197] [/device:CPU:0] (DEBUG INFO) Executor start aborting (this does not indicate an error and you can ignore this message): INVALID_ARGUMENT: You must feed a value for placeholder tensor 'gradients/split_grad/concat/split/split_dim' with dtype int32\n",
      "\t [[{{node gradients/split_grad/concat/split/split_dim}}]]\n",
      "2024-04-11 18:26:56.533319: I tensorflow/core/common_runtime/executor.cc:1197] [/device:CPU:0] (DEBUG INFO) Executor start aborting (this does not indicate an error and you can ignore this message): INVALID_ARGUMENT: You must feed a value for placeholder tensor 'gradients/split_1_grad/concat/split_1/split_dim' with dtype int32\n",
      "\t [[{{node gradients/split_1_grad/concat/split_1/split_dim}}]]\n"
     ]
    },
    {
     "name": "stdout",
     "output_type": "stream",
     "text": [
      "526/526 [==============================] - 0s 939us/step - loss: nan - accuracy: 0.5553 - val_loss: nan - val_accuracy: 0.5717\n",
      "Epoch 3/50\n",
      "526/526 [==============================] - 0s 879us/step - loss: nan - accuracy: 0.5553 - val_loss: nan - val_accuracy: 0.5717\n",
      "Epoch 4/50\n",
      "526/526 [==============================] - 0s 858us/step - loss: nan - accuracy: 0.5553 - val_loss: nan - val_accuracy: 0.5717\n",
      "Epoch 5/50\n",
      "526/526 [==============================] - 0s 856us/step - loss: nan - accuracy: 0.5553 - val_loss: nan - val_accuracy: 0.5717\n",
      "Epoch 6/50\n",
      "526/526 [==============================] - 0s 887us/step - loss: nan - accuracy: 0.5553 - val_loss: nan - val_accuracy: 0.5717\n",
      "Epoch 7/50\n",
      "526/526 [==============================] - 0s 902us/step - loss: nan - accuracy: 0.5553 - val_loss: nan - val_accuracy: 0.5717\n",
      "Epoch 8/50\n",
      "526/526 [==============================] - 0s 857us/step - loss: nan - accuracy: 0.5553 - val_loss: nan - val_accuracy: 0.5717\n",
      "Epoch 9/50\n",
      "526/526 [==============================] - 0s 897us/step - loss: nan - accuracy: 0.5553 - val_loss: nan - val_accuracy: 0.5717\n",
      "Epoch 10/50\n",
      "526/526 [==============================] - 0s 857us/step - loss: nan - accuracy: 0.5553 - val_loss: nan - val_accuracy: 0.5717\n",
      "147/147 [==============================] - 0s 331us/step - loss: nan - accuracy: 0.5573\n",
      "Test Accuracy: 0.5573384761810303\n",
      "Actual: run, Predicted: run\n",
      "Actual: pass, Predicted: run\n",
      "Actual: run, Predicted: pass\n",
      "Actual: run, Predicted: run\n",
      "Actual: run, Predicted: run\n",
      "Actual: run, Predicted: run\n",
      "Actual: pass, Predicted: run\n",
      "Actual: pass, Predicted: pass\n",
      "Actual: run, Predicted: run\n",
      "Actual: pass, Predicted: run\n"
     ]
    }
   ],
   "source": [
    "features = data[['down','ydstogo','yardline_100', 'half_seconds_remaining', 'game_seconds_remaining', 'temp', 'wind']]\n",
    "target = data['play_type'].map({'pass': 0, 'run': 1})\n",
    "\n",
    "preprocessor = ColumnTransformer(\n",
    "    transformers=[\n",
    "        ('num', StandardScaler(), ['down','ydstogo','yardline_100', 'half_seconds_remaining', 'game_seconds_remaining', 'temp', 'wind'])\n",
    "    ]\n",
    ")\n",
    "\n",
    "X_processed = preprocessor.fit_transform(features)\n",
    "\n",
    "X_lstm = X_processed.reshape((X_processed.shape[0], 1, X_processed.shape[1]))\n",
    "y = target.values\n",
    "\n",
    "X_train, X_test, y_train, y_test = train_test_split(X_lstm, y, test_size=0.2, random_state=42)\n",
    "\n",
    "model = Sequential([\n",
    "    LSTM(128, input_shape=(X_train.shape[1], X_train.shape[2])),\n",
    "    Dense(1, activation='softmax')\n",
    "])\n",
    "\n",
    "model.compile(\n",
    "    loss='binary_crossentropy',\n",
    "    optimizer=RMSprop(learning_rate=0.01),\n",
    "    metrics=['accuracy']\n",
    ")\n",
    "\n",
    "\n",
    "\n",
    "##history = model.fit(X_train, y_train, epochs=50, validation_split=0.1, callbacks=[early_stopping], verbose=1)\n",
    "\n",
    "##test_loss, test_acc = model.evaluate(X_test, y_test, verbose=1)\n",
    "##print(f'Test Accuracy: {test_acc}')\n",
    "\n",
    "\n",
    "\n",
    "# Assuming you have already defined X_test and y_test\n",
    "predictions = model.predict(X_test)\n",
    "predictions = (predictions > 0.5).astype(int).reshape(-1)\n",
    "\n",
    "early_stopping = EarlyStopping(monitor='val_loss', patience=10)\n",
    "history = model.fit(X_train, y_train, epochs=50, validation_split=0.1, callbacks=[early_stopping], verbose=1)\n",
    "\n",
    "test_loss, test_acc = model.evaluate(X_test, y_test, verbose=1)\n",
    "print(f'Test Accuracy: {test_acc}')\n",
    "\n",
    "\n",
    "for i in range(10):\n",
    "    actual = 'pass' if y_test[i] == 0 else 'run'\n",
    "    predicted = 'pass' if predictions[i] == 0 else 'run'\n",
    "    print(f'Actual: {actual}, Predicted: {predicted}')\n"
   ]
  }
 ],
 "metadata": {
  "kernelspec": {
   "display_name": "ArtificialIntelligence",
   "language": "python",
   "name": "python3"
  },
  "language_info": {
   "codemirror_mode": {
    "name": "ipython",
    "version": 3
   },
   "file_extension": ".py",
   "mimetype": "text/x-python",
   "name": "python",
   "nbconvert_exporter": "python",
   "pygments_lexer": "ipython3",
   "version": "3.11.5"
  }
 },
 "nbformat": 4,
 "nbformat_minor": 2
}
